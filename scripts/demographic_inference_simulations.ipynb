{
 "cells": [
  {
   "cell_type": "markdown",
   "metadata": {},
   "source": [
    "## Demographic model testing"
   ]
  },
  {
   "cell_type": "markdown",
   "metadata": {},
   "source": [
    "In this notebook, we're going to simulate data based on our best-fit model(s), and then compare the SFS from these data with the SFS from our empirical data. We'll start by importing the `Python` packages we'll use for demographic modeling:"
   ]
  },
  {
   "cell_type": "code",
   "execution_count": 4,
   "metadata": {},
   "outputs": [],
   "source": [
    "# suppress gnarly matplotlib warnings\n",
    "import warnings\n",
    "def action_with_warnings():\n",
    "    warnings.warn(\"should not appear\")\n",
    "\n",
    "# load other packages\n",
    "import allel\n",
    "import moments, sys, os, matplotlib, numpy as np\n",
    "from moments import Misc,Spectrum,Numerics,Manips,Integration,Demographics1D,Demographics2D\n",
    "import msprime\n",
    "import tskit\n",
    "import seaborn as sns\n",
    "\n",
    "# set directory\n",
    "os.chdir(\"/Users/ethanlinck/Dropbox/wagtails/\")"
   ]
  },
  {
   "cell_type": "markdown",
   "metadata": {},
   "source": [
    "Next, we'll load a vcf file, trim it for linkage disequilibrium, and write a joint site frequency spectrum to file:"
   ]
  },
  {
   "cell_type": "code",
   "execution_count": 3,
   "metadata": {},
   "outputs": [],
   "source": [
    "# load vcf and extract folded sfs; write to file\n",
    "vcf_file = \"data/demographic_inf_parentals_rename.vcf\"\n",
    "f = allel.read_vcf(vcf_file, fields='*')\n",
    "gt = f['calldata/GT']\n",
    "gt = allel.GenotypeArray(gt)\n",
    "personata=gt[:,0:10]\n",
    "alba=gt[:,10:20]\n",
    "gn_p = personata.to_n_alt(fill=-1)\n",
    "gn_a = alba.to_n_alt(fill=-1)\n",
    "p_unlinked = allel.locate_unlinked(gn_p)\n",
    "a_unlinked = allel.locate_unlinked(gn_a)\n",
    "pass_linkage = np.logical_and(p_unlinked, a_unlinked)\n",
    "final = gt.compress(pass_linkage, axis=0)\n",
    "personata2=final[:,0:10]\n",
    "alba2=final[:,10:20]\n",
    "pers_ac = personata2.count_alleles()\n",
    "alba_ac = alba2.count_alleles()\n",
    "fsfs = allel.joint_sfs_folded(pers_ac, alba_ac)\n",
    "m_fsfs = moments.Spectrum(fsfs)\n",
    "m_fsfs.to_file(\"allopatric_parental_unlinked_sfs.txt\")"
   ]
  },
  {
   "cell_type": "code",
   "execution_count": 11,
   "metadata": {},
   "outputs": [],
   "source": [
    "# suppress gnarly matplotlib warnings\n",
    "import warnings\n",
    "def action_with_warnings():\n",
    "    warnings.warn(\"should not appear\")\n",
    "\n",
    "# import other libraries\n",
    "import allel\n",
    "import moments\n",
    "import msprime\n",
    "import tskit\n",
    "import numpy as np\n",
    "import seaborn as sns\n",
    "import math"
   ]
  },
  {
   "cell_type": "markdown",
   "metadata": {},
   "source": [
    "How many variants? We'll need this for our simulations."
   ]
  },
  {
   "cell_type": "code",
   "execution_count": 5,
   "metadata": {},
   "outputs": [
    {
     "data": {
      "text/plain": [
       "549501"
      ]
     },
     "execution_count": 5,
     "metadata": {},
     "output_type": "execute_result"
    }
   ],
   "source": [
    "variant_count = final.n_variants\n",
    "variant_count"
   ]
  },
  {
   "cell_type": "markdown",
   "metadata": {},
   "source": [
    "Next, let's calculate basic summary statistics: $F_{ST}$, $\\pi$, and $D_{XY}$. First, we'll assign subpopulations:"
   ]
  },
  {
   "cell_type": "code",
   "execution_count": 6,
   "metadata": {},
   "outputs": [],
   "source": [
    "alba = list(range(0,10))\n",
    "personata = list(range(10,20))\n",
    "populations = [alba, personata]"
   ]
  },
  {
   "cell_type": "markdown",
   "metadata": {},
   "source": [
    "Now, the summary stats themselves, which will save for comparison to simulated results later. Genome-wide $F_{ST}$:"
   ]
  },
  {
   "cell_type": "code",
   "execution_count": 7,
   "metadata": {},
   "outputs": [
    {
     "data": {
      "text/plain": [
       "0.06371249429456141"
      ]
     },
     "execution_count": 7,
     "metadata": {},
     "output_type": "execute_result"
    }
   ],
   "source": [
    "a, b, c = allel.weir_cockerham_fst(final, populations)\n",
    "empirical_fst = np.sum(a) / (np.sum(a) + np.sum(b) + np.sum(c))\n",
    "empirical_fst"
   ]
  },
  {
   "cell_type": "markdown",
   "metadata": {},
   "source": [
    "Genome-wide $\\pi$:"
   ]
  },
  {
   "cell_type": "code",
   "execution_count": 8,
   "metadata": {},
   "outputs": [
    {
     "data": {
      "text/plain": [
       "0.005314163319711882"
      ]
     },
     "execution_count": 8,
     "metadata": {},
     "output_type": "execute_result"
    }
   ],
   "source": [
    "ac = final.count_alleles()\n",
    "mpd = allel.mean_pairwise_difference(ac)\n",
    "total_length = gt.n_variants\n",
    "empirical_pi = np.sum(mpd)/total_length\n",
    "empirical_pi"
   ]
  },
  {
   "cell_type": "markdown",
   "metadata": {},
   "source": [
    "And now $D_{XY}$:"
   ]
  },
  {
   "cell_type": "code",
   "execution_count": 9,
   "metadata": {},
   "outputs": [
    {
     "data": {
      "text/plain": [
       "0.005516508746638577"
      ]
     },
     "execution_count": 9,
     "metadata": {},
     "output_type": "execute_result"
    }
   ],
   "source": [
    "ac2 = final.count_alleles(subpop=alba)\n",
    "ac3 = final.count_alleles(subpop=personata)\n",
    "mpdb = allel.mean_pairwise_difference_between(ac2, ac3)\n",
    "empirical_dxy = np.sum(mpdb)/total_length\n",
    "empirical_dxy"
   ]
  },
  {
   "cell_type": "markdown",
   "metadata": {},
   "source": [
    "We'll now define the demographic model we'll use to simulate these data. In our initial model fitting, we found that the absolute best-fit model was one of secondary contact:"
   ]
  },
  {
   "cell_type": "code",
   "execution_count": 42,
   "metadata": {},
   "outputs": [],
   "source": [
    "def wagtail_history_sc():\n",
    "\n",
    "    # maximum likelihood values for population sizes in absolute units...\n",
    "    n_alba = 283484\n",
    "    n_alba_initial = 27635\n",
    "    n_personata = 253026\n",
    "    n_personata_initial = 5136\n",
    "    \n",
    "    #...split times in generations / years...\n",
    "    t_split = 77401\n",
    "    t_contact = 433\n",
    "    \n",
    "    # growth rates...\n",
    "    alba_ratio = n_alba/n_alba_initial\n",
    "    alba_tmp = math.log(alba_ratio)\n",
    "    alba_rate = alba_tmp/t_contact\n",
    "    personata_ratio = n_personata/n_personata_initial\n",
    "    personata_tmp = math.log(personata_ratio)\n",
    "    personata_rate = personata_tmp/t_contact\n",
    "    \n",
    "    #...and proportional migration rates\n",
    "    m_alba_personata = 2.616447e-05\n",
    "    m_personata_alba = 3.668411e-07\n",
    "    \n",
    "    # population configurations indices: 0=alba, 1=personata\n",
    "    population_configurations = [\n",
    "        msprime.PopulationConfiguration(sample_size=10, \n",
    "                                        initial_size=n_alba, \n",
    "                                        growth_rate=alba_rate),\n",
    "        msprime.PopulationConfiguration(sample_size=10, \n",
    "                                        initial_size=n_personata,\n",
    "                                        growth_rate=personata_rate),\n",
    "    ]\n",
    "    \n",
    "    # migration matrix based on those indices\n",
    "    migration_matrix = [\n",
    "        [      0, m_alba_personata],\n",
    "        [m_personata_alba,       0],\n",
    "    ]\n",
    "    \n",
    "    # demographic events: cessation of hybridization + initial divergence\n",
    "    demographic_events = [\n",
    "        msprime.MigrationRateChange(time=t_contact, rate=0),\n",
    "        msprime.PopulationParametersChange(time = t_contact, growth_rate = 0, population = 0),\n",
    "        msprime.PopulationParametersChange(time = t_contact, growth_rate = 0, population = 1),\n",
    "        msprime.MassMigration(time=t_split, source=1, destination=0, proportion=1.0),\n",
    "    ]\n",
    "    \n",
    "    # return matrix objects\n",
    "    return {\n",
    "        \"population_configurations\": population_configurations,\n",
    "        \"migration_matrix\": migration_matrix,\n",
    "        \"demographic_events\": demographic_events,\n",
    "    }"
   ]
  },
  {
   "cell_type": "markdown",
   "metadata": {},
   "source": [
    "Let's use the `DemographyDebugger()` function to make sure we have gene flow for the most recent time period, a period of isolation, and then a \"mass migration event\" (i.e., divergence):"
   ]
  },
  {
   "cell_type": "code",
   "execution_count": 54,
   "metadata": {},
   "outputs": [
    {
     "name": "stdout",
     "output_type": "stream",
     "text": [
      "Model =  hudson(reference_size=1)\n",
      "=============================\n",
      "Epoch: 0 -- 433.0 generations\n",
      "=============================\n",
      "     start     end      growth_rate |     0        1    \n",
      "   -------- --------       -------- | -------- -------- \n",
      "0 |2.83e+05 2.76e+04        0.00538 |     0    2.62e-05 \n",
      "1 |2.53e+05 5.14e+03          0.009 | 3.67e-07     0    \n",
      "\n",
      "Events @ generation 433.0\n",
      "   - Migration rate change to 0 everywhere\n",
      "   - Population parameter change for 0: growth_rate -> 0 \n",
      "   - Population parameter change for 1: growth_rate -> 0 \n",
      "===================================\n",
      "Epoch: 433.0 -- 77401.0 generations\n",
      "===================================\n",
      "     start     end      growth_rate |     0        1    \n",
      "   -------- --------       -------- | -------- -------- \n",
      "0 |2.76e+04 2.76e+04              0 |     0        0    \n",
      "1 |5.14e+03 5.14e+03              0 |     0        0    \n",
      "\n",
      "Events @ generation 77401.0\n",
      "   - Mass migration: Lineages moved with probability 1.0 backwards in time with source 1 & dest 0\n",
      "                     (equivalent to migration from 0 to 1 forwards in time)\n",
      "=================================\n",
      "Epoch: 77401.0 -- inf generations\n",
      "=================================\n",
      "     start     end      growth_rate |     0        1    \n",
      "   -------- --------       -------- | -------- -------- \n",
      "0 |2.76e+04 2.76e+04              0 |     0        0    \n",
      "1 |5.14e+03 5.14e+03              0 |     0        0    \n",
      "\n"
     ]
    }
   ],
   "source": [
    "dd_sc = msprime.DemographyDebugger(**wagtail_history_sc())\n",
    "dd_sc.print_history()"
   ]
  },
  {
   "cell_type": "markdown",
   "metadata": {},
   "source": [
    "Looks good! We'll now run a full simulation, trying to mimic our data as closely as possible."
   ]
  },
  {
   "cell_type": "code",
   "execution_count": 55,
   "metadata": {},
   "outputs": [],
   "source": [
    "def replicate_simulations(num_replicates, model_name): \n",
    "    \n",
    "    # assign blank numpy arrays\n",
    "    P = np.zeros(num_replicates)\n",
    "    D = np.zeros(num_replicates)\n",
    "    F = np.zeros(num_replicates)\n",
    "    A = [range(0, num_replicates)]\n",
    "    \n",
    "    # get population indices with summary statistics\n",
    "    alba = list(range(0,10))\n",
    "    personata = list(range(10,20))\n",
    "    populations = [alba, personata]\n",
    "    \n",
    "    # msprime function\n",
    "    replicates = msprime.simulate(**model_name,\n",
    "                     length=1e5,\n",
    "                     recombination_rate = 3.63e-8,\n",
    "                     mutation_rate = 2.3e-9,\n",
    "                     num_replicates = num_replicates)\n",
    "    \n",
    "    # loop over replicated tree sequences \n",
    "    for j, tree_sequence in enumerate(replicates):\n",
    "        P[j] = tree_sequence.diversity()\n",
    "        D[j] = tree_sequence.divergence(sample_sets=populations)\n",
    "        F[j] = tree_sequence.Fst(sample_sets=populations)\n",
    "        A.append(tree_sequence.allele_frequency_spectrum(sample_sets=populations,\n",
    "                                                         polarised=True, \n",
    "                                                         span_normalise=False))\n",
    "        \n",
    "    # print summary statistics\n",
    "    print(\"        empirical                          simulated\")\n",
    "    print(\"Pi      {}\\t\\t{}\".format(empirical_pi, np.mean(P)))\n",
    "    print(\"Dxy     {}\\t\\t{}\".format(empirical_dxy, np.mean(D)))\n",
    "    print(\"Fst     {}\\t\\t{}\".format(empirical_fst, np.nanmean(F)))\n",
    "    \n",
    "    # output allele frequence spectrum object\n",
    "    return A\n"
   ]
  },
  {
   "cell_type": "code",
   "execution_count": 57,
   "metadata": {},
   "outputs": [
    {
     "name": "stdout",
     "output_type": "stream",
     "text": [
      "        empirical                          simulated\n",
      "Pi      0.005314163319711882\t\t0.0003876163157894741\n",
      "Dxy     0.005516508746638577\t\t0.0005970640000000002\n",
      "Fst     0.06371249429456141\t\t0.5874306722808309\n"
     ]
    }
   ],
   "source": [
    "sim_sc_afs = replicate_simulations(100, wagtail_history_sc())"
   ]
  },
  {
   "cell_type": "markdown",
   "metadata": {},
   "source": [
    "Across the board, the parameters are a bad fit: $F_{ST}$ is far too high, and we we see an order of magnitude lower diversity ($\\pi$) and absolute divergence ($D_{xy}$) in out best-fit model than our empirical data. \n",
    "\n",
    "Lastly, we'll visualize the source of these statistics—the joint allele / site frequency spectrum itself."
   ]
  },
  {
   "cell_type": "code",
   "execution_count": 40,
   "metadata": {},
   "outputs": [
    {
     "data": {
      "text/plain": [
       "<AxesSubplot:xlabel='derived allele count (population 1)', ylabel='derived allele count (population 2)'>"
      ]
     },
     "execution_count": 40,
     "metadata": {},
     "output_type": "execute_result"
    },
    {
     "data": {
      "image/png": "[encoded data removed]",
      "text/plain": [
       "<Figure size 432x432 with 1 Axes>"
      ]
     },
     "metadata": {
      "needs_background": "light"
     },
     "output_type": "display_data"
    },
    {
     "data": {
      "image/png": "[encoded data removed]",
      "text/plain": [
       "<Figure size 432x432 with 1 Axes>"
      ]
     },
     "metadata": {
      "needs_background": "light"
     },
     "output_type": "display_data"
    }
   ],
   "source": [
    "empirical_jsfs = allel.joint_sfs_folded(ac2,ac3)\n",
    "allel.plot_joint_sfs_folded(empirical_jsfs)\n",
    "mean_sim_afs = np.mean(sim_afs[1:100], axis=0)\n",
    "mean_sim_afs.shape\n",
    "allel.plot_joint_sfs(mean_sim_afs)"
   ]
  },
  {
   "cell_type": "markdown",
   "metadata": {},
   "source": [
    "Yikes—a huge abundance of private alleles in both populations that do not reflect empirical reality. Let's now try and fit a strict isolation model, as across all optimizations this demographic history had the highest median likelihood, even if no individual optimization could match the likelihood value of the single best parameter optimization for secondary contact."
   ]
  },
  {
   "cell_type": "code",
   "execution_count": 52,
   "metadata": {},
   "outputs": [],
   "source": [
    "def wagtail_history_si():\n",
    "\n",
    "    # maximum likelihood values for population sizes in absolute units...\n",
    "    n_alba = 10193095\n",
    "    n_alba_initial = 526278\n",
    "    n_personata = 9802845\n",
    "    n_personata_initial = 495549\n",
    "    \n",
    "    #...split times in generations / years...\n",
    "    t_split = 2006422\n",
    "    \n",
    "    # growth rates...\n",
    "    alba_ratio = n_alba/n_alba_initial\n",
    "    alba_tmp = math.log(alba_ratio)\n",
    "    alba_rate = alba_tmp/t_split\n",
    "    personata_ratio = n_personata/n_personata_initial\n",
    "    personata_tmp = math.log(personata_ratio)\n",
    "    personata_rate = personata_tmp/t_split\n",
    "    \n",
    "    #...and proportional migration rates\n",
    "    m_alba_personata = 0\n",
    "    m_personata_alba = 0\n",
    "    \n",
    "    # population configurations indices: 0=alba, 1=personata\n",
    "    population_configurations = [\n",
    "        msprime.PopulationConfiguration(sample_size=10, \n",
    "                                        initial_size=n_alba, \n",
    "                                        growth_rate=alba_rate),\n",
    "        msprime.PopulationConfiguration(sample_size=10, \n",
    "                                        initial_size=n_personata,\n",
    "                                        growth_rate=personata_rate),\n",
    "    ]\n",
    "    \n",
    "    # migration matrix based on those indices\n",
    "    migration_matrix = [\n",
    "        [0, 0],\n",
    "        [0, 0],\n",
    "    ]\n",
    "    \n",
    "    # demographic events: cessation of hybridization + initial divergence\n",
    "    demographic_events = [\n",
    "        msprime.PopulationParametersChange(time = t_split, growth_rate = 0, population = 0),\n",
    "        msprime.PopulationParametersChange(time = t_split, growth_rate = 0, population = 1),\n",
    "        msprime.MassMigration(time=t_split, source=1, destination=0, proportion=1.0),\n",
    "    ]\n",
    "    \n",
    "    # return matrix objects\n",
    "    return {\n",
    "        \"population_configurations\": population_configurations,\n",
    "        \"migration_matrix\": migration_matrix,\n",
    "        \"demographic_events\": demographic_events,\n",
    "    }"
   ]
  },
  {
   "cell_type": "code",
   "execution_count": 53,
   "metadata": {},
   "outputs": [
    {
     "name": "stdout",
     "output_type": "stream",
     "text": [
      "Model =  hudson(reference_size=1)\n",
      "=================================\n",
      "Epoch: 0 -- 2006422.0 generations\n",
      "=================================\n",
      "     start     end      growth_rate |     0        1    \n",
      "   -------- --------       -------- | -------- -------- \n",
      "0 |1.02e+07 5.26e+05       1.48e-06 |     0        0    \n",
      "1 | 9.8e+06 4.96e+05       1.49e-06 |     0        0    \n",
      "\n",
      "Events @ generation 2006422.0\n",
      "   - Population parameter change for 0: growth_rate -> 0 \n",
      "   - Population parameter change for 1: growth_rate -> 0 \n",
      "   - Mass migration: Lineages moved with probability 1.0 backwards in time with source 1 & dest 0\n",
      "                     (equivalent to migration from 0 to 1 forwards in time)\n",
      "===================================\n",
      "Epoch: 2006422.0 -- inf generations\n",
      "===================================\n",
      "     start     end      growth_rate |     0        1    \n",
      "   -------- --------       -------- | -------- -------- \n",
      "0 |5.26e+05 5.26e+05              0 |     0        0    \n",
      "1 |4.96e+05 4.96e+05              0 |     0        0    \n",
      "\n"
     ]
    }
   ],
   "source": [
    "dd_si = msprime.DemographyDebugger(**wagtail_history_si())\n",
    "dd_si.print_history()"
   ]
  },
  {
   "cell_type": "code",
   "execution_count": 59,
   "metadata": {},
   "outputs": [
    {
     "name": "stdout",
     "output_type": "stream",
     "text": [
      "        empirical                          simulated\n",
      "Pi      0.005314163319711882\t\t0.01230411421052605\n",
      "Dxy     0.005516508746638577\t\t0.014017585999999627\n",
      "Fst     0.06371249429456141\t\t0.14813024662544552\n"
     ]
    }
   ],
   "source": [
    "sim_si_afs = replicate_simulations(100, wagtail_history_si())"
   ]
  },
  {
   "cell_type": "code",
   "execution_count": 62,
   "metadata": {},
   "outputs": [
    {
     "data": {
      "text/plain": [
       "<AxesSubplot:xlabel='derived allele count (population 1)', ylabel='derived allele count (population 2)'>"
      ]
     },
     "execution_count": 62,
     "metadata": {},
     "output_type": "execute_result"
    },
    {
     "data": {
      "image/png": "[encoded data removed]",
      "text/plain": [
       "<Figure size 432x432 with 1 Axes>"
      ]
     },
     "metadata": {
      "needs_background": "light"
     },
     "output_type": "display_data"
    },
    {
     "data": {
      "image/png": "[encoded data removed]",
      "text/plain": [
       "<Figure size 432x432 with 1 Axes>"
      ]
     },
     "metadata": {
      "needs_background": "light"
     },
     "output_type": "display_data"
    }
   ],
   "source": [
    "allel.plot_joint_sfs_folded(empirical_jsfs)\n",
    "mean_sim_si_afs = np.mean(sim_si_afs[1:100], axis=0)\n",
    "mean_sim_si_afs.shape\n",
    "allel.plot_joint_sfs(mean_sim_si_afs)"
   ]
  },
  {
   "cell_type": "markdown",
   "metadata": {},
   "source": [
    "Closer, but still not very good: we're now overestimating $\\pi$ and $D_{xy}$ as well as $F_{ST}$. The failure of either of these models to generate similar sequences to our empirical data suggest the low differentiation may be hindering model fit."
   ]
  },
  {
   "cell_type": "code",
   "execution_count": null,
   "metadata": {},
   "outputs": [],
   "source": []
  }
 ],
 "metadata": {
  "kernelspec": {
   "display_name": "Python 3",
   "language": "python",
   "name": "python3"
  },
  "language_info": {
   "codemirror_mode": {
    "name": "ipython",
    "version": 3
   },
   "file_extension": ".py",
   "mimetype": "text/x-python",
   "name": "python",
   "nbconvert_exporter": "python",
   "pygments_lexer": "ipython3",
   "version": "3.7.9"
  }
 },
 "nbformat": 4,
 "nbformat_minor": 2
}
